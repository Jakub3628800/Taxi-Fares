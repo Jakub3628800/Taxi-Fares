{
 "cells": [
  {
   "cell_type": "code",
   "execution_count": 2,
   "metadata": {},
   "outputs": [],
   "source": [
    "import pandas as pd \n",
    "TRAIN_PATH = 'train.csv'"
   ]
  },
  {
   "cell_type": "code",
   "execution_count": 3,
   "metadata": {},
   "outputs": [
    {
     "data": {
      "text/plain": [
       "fare_amount          10000\n",
       "pickup_datetime      10000\n",
       "pickup_longitude     10000\n",
       "pickup_latitude      10000\n",
       "dropoff_longitude    10000\n",
       "dropoff_latitude     10000\n",
       "passenger_count      10000\n",
       "dtype: int64"
      ]
     },
     "execution_count": 3,
     "metadata": {},
     "output_type": "execute_result"
    }
   ],
   "source": [
    "#take 10000 samples\n",
    "df_sample = pd.read_csv(TRAIN_PATH, nrows=10000)\n",
    "#Drop key column\n",
    "df_sample.drop(['key'], axis=1, inplace= True)\n",
    "df_sample.count()"
   ]
  },
  {
   "cell_type": "code",
   "execution_count": 4,
   "metadata": {},
   "outputs": [],
   "source": [
    "#Print all sample where passenger count is 0\n",
    "df_sample.loc[lambda df:df['passenger_count']==0]\n",
    "#Remove rows where passenger count is 0\n",
    "df_sample.drop(df_sample.loc[lambda df:df['passenger_count']==0].index, inplace=True)"
   ]
  },
  {
   "cell_type": "code",
   "execution_count": 5,
   "metadata": {},
   "outputs": [],
   "source": [
    "#Print all sample where fare amount is negative\n",
    "df_sample.loc[lambda df:df['fare_amount']<0 ]\n",
    "#Remove rows where amount is negative\n",
    "df_sample.drop(df_sample.loc[lambda df:df['fare_amount']<0 ].index, inplace=True)"
   ]
  },
  {
   "cell_type": "code",
   "execution_count": 6,
   "metadata": {},
   "outputs": [],
   "source": [
    "df_sample.dropna(subset=['pickup_latitude','pickup_longitude',\n",
    "                 'dropoff_latitude','dropoff_longitude'], how='all', inplace = True)"
   ]
  },
  {
   "cell_type": "code",
   "execution_count": 7,
   "metadata": {},
   "outputs": [],
   "source": [
    "## Density map of pick-ups and drop-offs"
   ]
  },
  {
   "cell_type": "code",
   "execution_count": 8,
   "metadata": {},
   "outputs": [],
   "source": [
    "def plot_pickups_dropoffs(dataframe):\n",
    "    # creating dataframe of shape: 'latitude','longitude','action'\n",
    "    # where action corresponds to pickup - 'blue', or dropoff - 'red'\n",
    "    # 'red', 'blue' are then used by 'folium' map to plot dropoff and pickup, respectively\n",
    "    import os\n",
    "    import folium\n",
    "    \n",
    "    df_length = len(dataframe.index)\n",
    "    #pickups\n",
    "    pickups_lon = dataframe['pickup_longitude']\n",
    "    pickups_lat = dataframe['pickup_latitude']\n",
    "\n",
    "    blue=[]\n",
    "    for i in range(df_length):\n",
    "        blue.append('blue')\n",
    "\n",
    "    p = {'longitude':pickups_lon, 'latitude':pickups_lat, 'action':blue}\n",
    "    pickups = pd.DataFrame(data=p)\n",
    "    #\n",
    "    #dropoffs\n",
    "    dropoff_lon = dataframe['dropoff_longitude']\n",
    "    dropoff_lat = dataframe['dropoff_latitude']\n",
    "    red=[]\n",
    "    for i in range(df_length):\n",
    "        red.append('red')\n",
    "\n",
    "\n",
    "    d = {'longitude':dropoff_lon, 'latitude':dropoff_lat, 'action':red}\n",
    "    dropoffs = pd.DataFrame(data=d)\n",
    "    #\n",
    "    #building final dataframe (pickups_dropoffs)\n",
    "    pickups_dropoffs = pd.DataFrame(columns=['longitude', 'latitude', 'action'])\n",
    "    pickups_dropoffs = pickups_dropoffs.append(pickups, sort=False, ignore_index=True)\n",
    "    pickups_dropoffs = pickups_dropoffs.append(dropoffs, sort=False, ignore_index=True)\n",
    "    #\n",
    "    #building a map\n",
    "    map_osm = folium.Map(location=[40.73, -73.93], zoom_start=10)\n",
    "    pickups_dropoffs.apply(lambda row:folium.CircleMarker(location=[row[\"latitude\"], row[\"longitude\"]], \n",
    "                                             radius=0.5, color=row['action'],fill_color=row['action'])\n",
    "                                             .add_to(map_osm), axis=1)\n",
    "    #exporting map to html file\n",
    "    map_osm.save('map.html')\n",
    "    \n",
    "    return None"
   ]
  },
  {
   "cell_type": "code",
   "execution_count": 9,
   "metadata": {},
   "outputs": [],
   "source": [
    "plot_pickups_dropoffs(df_sample)"
   ]
  }
 ],
 "metadata": {
  "kernelspec": {
   "display_name": "Python 3",
   "language": "python",
   "name": "python3"
  },
  "language_info": {
   "codemirror_mode": {
    "name": "ipython",
    "version": 3
   },
   "file_extension": ".py",
   "mimetype": "text/x-python",
   "name": "python",
   "nbconvert_exporter": "python",
   "pygments_lexer": "ipython3",
   "version": "3.7.3"
  }
 },
 "nbformat": 4,
 "nbformat_minor": 2
}
